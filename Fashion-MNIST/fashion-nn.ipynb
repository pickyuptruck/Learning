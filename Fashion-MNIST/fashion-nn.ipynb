{
 "cells": [
  {
   "cell_type": "code",
   "execution_count": 7,
   "metadata": {},
   "outputs": [],
   "source": [
    "import torch\n",
    "from torchvision import datasets, transforms\n",
    "\n",
    "import helper\n",
    "\n",
    "# normalise data\n",
    "transform = transforms.Compose([transforms.ToTensor(),\n",
    "                                transforms.Normalize((0.5,), (0.5,))])\n",
    "# download training data and put into dataloader\n",
    "trainset = datasets.FashionMNIST('~/.pytorch/F_MNIST_data/', download=True, train=True, transform=transform)\n",
    "trainloader = torch.utils.data.DataLoader(trainset, batch_size=64, shuffle=True)\n",
    "\n",
    "# download and load test data\n",
    "testset = datasets.FashionMNIST('~/.pytorch/F_MNIST_data/', download=True, train=False, transform=transform)\n",
    "testloader = torch.utils.data.DataLoader(testset, batch_size=64, shuffle=True)"
   ]
  },
  {
   "cell_type": "markdown",
   "metadata": {},
   "source": [
    "# Viewing images"
   ]
  },
  {
   "cell_type": "code",
   "execution_count": 8,
   "metadata": {},
   "outputs": [
    {
     "data": {
      "image/png": "[encoded data removed]",
      "text/plain": [
       "<Figure size 432x288 with 1 Axes>"
      ]
     },
     "metadata": {
      "needs_background": "light"
     },
     "output_type": "display_data"
    }
   ],
   "source": [
    "image, label = next(iter(trainloader))\n",
    "helper.imshow(image[0,:]);"
   ]
  },
  {
   "cell_type": "markdown",
   "metadata": {},
   "source": [
    "# Defining network architecture\n",
    "Creating fully connected nn with 3 hidden layers and dropout"
   ]
  },
  {
   "cell_type": "code",
   "execution_count": null,
   "metadata": {},
   "outputs": [],
   "source": [
    "from torch import nn, optim\n",
    "import torch.nn.functional as F\n",
    "\n",
    "class Classifier(nn.Module):\n",
    "    def __init__(self):\n",
    "        super().__init__()\n",
    "        self.fc1 = nn.Linear(784, 256)\n",
    "        self.fc2 = nn.Linear(256, 128)\n",
    "        self.fc3 = nn.Linear(128, 64)\n",
    "        self.fc4 = nn.Linear(64, 10)\n",
    "        \n",
    "        self.dropout = nn.Dropout(p=0.2)\n",
    "        \n",
    "    def forward(self, x):\n",
    "        # flattening input\n",
    "        x = x.view(x.shape[0], -1)\n",
    "        \n",
    "        x = self.dropout(F.relu(self.fc1(x)))\n",
    "        x = self.dropout(F.relu(self.fc2(x)))\n",
    "        x = self.dropout(F.relu(self.fc3(x)))\n",
    "        \n",
    "        #no dropout for output layer\n",
    "        x = F.log_softmax(self.fc4(x), dim=1)\n",
    "        \n",
    "        return x"
   ]
  },
  {
   "cell_type": "markdown",
   "metadata": {},
   "source": [
    "# Training and evaluation"
   ]
  },
  {
   "cell_type": "code",
   "execution_count": 34,
   "metadata": {},
   "outputs": [
    {
     "name": "stdout",
     "output_type": "stream",
     "text": [
      "Epoch: 1/30..  Training Loss: 0.518..  Test Loss: 0.434..  Test Accuracy: 0.847\n",
      "Epoch: 2/30..  Training Loss: 0.392..  Test Loss: 0.396..  Test Accuracy: 0.856\n",
      "Epoch: 3/30..  Training Loss: 0.355..  Test Loss: 0.399..  Test Accuracy: 0.855\n",
      "Epoch: 4/30..  Training Loss: 0.337..  Test Loss: 0.402..  Test Accuracy: 0.862\n",
      "Epoch: 5/30..  Training Loss: 0.317..  Test Loss: 0.370..  Test Accuracy: 0.871\n",
      "Epoch: 6/30..  Training Loss: 0.304..  Test Loss: 0.349..  Test Accuracy: 0.873\n",
      "Epoch: 7/30..  Training Loss: 0.289..  Test Loss: 0.374..  Test Accuracy: 0.870\n",
      "Epoch: 8/30..  Training Loss: 0.282..  Test Loss: 0.378..  Test Accuracy: 0.871\n",
      "Epoch: 9/30..  Training Loss: 0.273..  Test Loss: 0.389..  Test Accuracy: 0.870\n",
      "Epoch: 10/30..  Training Loss: 0.267..  Test Loss: 0.400..  Test Accuracy: 0.867\n",
      "Epoch: 11/30..  Training Loss: 0.257..  Test Loss: 0.362..  Test Accuracy: 0.879\n",
      "Epoch: 12/30..  Training Loss: 0.251..  Test Loss: 0.362..  Test Accuracy: 0.880\n",
      "Epoch: 13/30..  Training Loss: 0.248..  Test Loss: 0.367..  Test Accuracy: 0.879\n",
      "Epoch: 14/30..  Training Loss: 0.241..  Test Loss: 0.392..  Test Accuracy: 0.870\n",
      "Epoch: 15/30..  Training Loss: 0.234..  Test Loss: 0.369..  Test Accuracy: 0.881\n",
      "Epoch: 16/30..  Training Loss: 0.235..  Test Loss: 0.360..  Test Accuracy: 0.883\n",
      "Epoch: 17/30..  Training Loss: 0.224..  Test Loss: 0.389..  Test Accuracy: 0.879\n",
      "Epoch: 18/30..  Training Loss: 0.222..  Test Loss: 0.383..  Test Accuracy: 0.880\n",
      "Epoch: 19/30..  Training Loss: 0.217..  Test Loss: 0.391..  Test Accuracy: 0.878\n",
      "Epoch: 20/30..  Training Loss: 0.216..  Test Loss: 0.383..  Test Accuracy: 0.878\n",
      "Epoch: 21/30..  Training Loss: 0.209..  Test Loss: 0.384..  Test Accuracy: 0.885\n",
      "Epoch: 22/30..  Training Loss: 0.206..  Test Loss: 0.388..  Test Accuracy: 0.883\n",
      "Epoch: 23/30..  Training Loss: 0.205..  Test Loss: 0.416..  Test Accuracy: 0.877\n",
      "Epoch: 24/30..  Training Loss: 0.204..  Test Loss: 0.392..  Test Accuracy: 0.883\n",
      "Epoch: 25/30..  Training Loss: 0.198..  Test Loss: 0.402..  Test Accuracy: 0.884\n",
      "Epoch: 26/30..  Training Loss: 0.192..  Test Loss: 0.416..  Test Accuracy: 0.879\n",
      "Epoch: 27/30..  Training Loss: 0.199..  Test Loss: 0.431..  Test Accuracy: 0.879\n",
      "Epoch: 28/30..  Training Loss: 0.183..  Test Loss: 0.420..  Test Accuracy: 0.875\n",
      "Epoch: 29/30..  Training Loss: 0.192..  Test Loss: 0.434..  Test Accuracy: 0.880\n",
      "Epoch: 30/30..  Training Loss: 0.184..  Test Loss: 0.406..  Test Accuracy: 0.886\n"
     ]
    }
   ],
   "source": [
    "model = Classifier()\n",
    "criterion = nn.NLLLoss()\n",
    "optimizer = optim.Adam(model.parameters(), lr=0.003)\n",
    "\n",
    "epochs = 30\n",
    "steps = 0\n",
    "\n",
    "train_losses, test_losses = [], []\n",
    "\n",
    "for e in range(epochs):\n",
    "    running_loss = 0\n",
    "    for images, labels in trainloader:\n",
    "        \n",
    "        optimizer.zero_grad()\n",
    "        \n",
    "        #forward pass\n",
    "        log_ps = model(images)\n",
    "        loss = criterion(log_ps, labels)\n",
    "        \n",
    "        #gradient descent\n",
    "        loss.backward()\n",
    "        optimizer.step()\n",
    "        \n",
    "        running_loss += loss.item()\n",
    "    else:\n",
    "        test_loss = 0\n",
    "        accuracy = 0\n",
    "        \n",
    "        #turning off gradients for speed\n",
    "        with torch.no_grad():\n",
    "            \n",
    "            #switching to evaluation mode so there's no dropout\n",
    "            model.eval()\n",
    "            for images, labels in testloader:\n",
    "                \n",
    "                #pass in test model\n",
    "                log_ps = model(images)\n",
    "                test_loss += criterion(log_ps, labels)\n",
    "                \n",
    "                #finding accuracy\n",
    "                ps = torch.exp(log_ps)\n",
    "                top_p, top_class = ps.topk(1, dim=1)\n",
    "                equals = top_class == labels.view(*top_class.shape)\n",
    "                accuracy += torch.mean(equals.type(torch.FloatTensor))\n",
    "        \n",
    "        #return to train mode\n",
    "        model.train()\n",
    "        \n",
    "        train_losses.append(running_loss/len(trainloader))\n",
    "        test_losses.append(test_loss/len(testloader))\n",
    "\n",
    "        print(\"Epoch: {}/{}.. \".format(e+1, epochs),\n",
    "              \"Training Loss: {:.3f}.. \".format(train_losses[-1]),\n",
    "              \"Test Loss: {:.3f}.. \".format(test_losses[-1]),\n",
    "              \"Test Accuracy: {:.3f}\".format(accuracy/len(testloader)))"
   ]
  },
  {
   "cell_type": "markdown",
   "metadata": {},
   "source": [
    "# Viewing results"
   ]
  },
  {
   "cell_type": "code",
   "execution_count": 16,
   "metadata": {},
   "outputs": [
    {
     "data": {
      "image/png": "[encoded data removed]",
      "text/plain": [
       "<Figure size 432x648 with 2 Axes>"
      ]
     },
     "metadata": {
      "needs_background": "light"
     },
     "output_type": "display_data"
    }
   ],
   "source": [
    "model.eval()\n",
    "\n",
    "dataiter = iter(testloader)\n",
    "images, labels = dataiter.next()\n",
    "img = images[0]\n",
    "# Convert 2D image to 1D vector\n",
    "img = img.view(1, 784)\n",
    "\n",
    "# Calculate the class probabilities (softmax) for img\n",
    "with torch.no_grad():\n",
    "    output = model.forward(img)\n",
    "\n",
    "ps = torch.exp(output)\n",
    "\n",
    "# Plot the image and probabilities\n",
    "helper.view_classify(img.view(1, 28, 28), ps, version='Fashion')"
   ]
  },
  {
   "cell_type": "code",
   "execution_count": null,
   "metadata": {},
   "outputs": [],
   "source": []
  }
 ],
 "metadata": {
  "kernelspec": {
   "display_name": "Python 3",
   "language": "python",
   "name": "python3"
  },
  "language_info": {
   "codemirror_mode": {
    "name": "ipython",
    "version": 3
   },
   "file_extension": ".py",
   "mimetype": "text/x-python",
   "name": "python",
   "nbconvert_exporter": "python",
   "pygments_lexer": "ipython3",
   "version": "3.7.3"
  }
 },
 "nbformat": 4,
 "nbformat_minor": 2
}
